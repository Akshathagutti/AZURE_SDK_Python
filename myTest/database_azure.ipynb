{
 "cells": [
  {
   "cell_type": "code",
   "execution_count": 1,
   "metadata": {},
   "outputs": [],
   "source": [
    "from azure.identity import AzureCliCredential\n",
    "# New imports\n",
    "from azure.mgmt.sql import SqlManagementClient\n",
    "from azure.mgmt.sql.models import FirewallRule\n",
    "\n",
    "# Module for connecting to SQL Server\n",
    "import pyodbc\n",
    "\n",
    "from settings import AZURE_SUBSCRIPTION_ID, DEFAULT_LOCATION, DEFAULT_RESOURCE_GROUP"
   ]
  },
  {
   "cell_type": "code",
   "execution_count": 4,
   "metadata": {},
   "outputs": [
    {
     "name": "stdout",
     "output_type": "stream",
     "text": [
      "5986c4d9-0694-4375-b863-e2da8648d7fc eastus azure-storage-group\n"
     ]
    }
   ],
   "source": [
    "print(AZURE_SUBSCRIPTION_ID, DEFAULT_LOCATION, DEFAULT_RESOURCE_GROUP)"
   ]
  },
  {
   "cell_type": "code",
   "execution_count": 2,
   "metadata": {},
   "outputs": [],
   "source": [
    "credential = AzureCliCredential()\n",
    "sql_client = SqlManagementClient(credential, AZURE_SUBSCRIPTION_ID)"
   ]
  },
  {
   "cell_type": "code",
   "execution_count": 5,
   "metadata": {},
   "outputs": [],
   "source": [
    "sql_server = sql_client.servers.begin_create_or_update(\n",
    "    resource_group_name=DEFAULT_RESOURCE_GROUP,\n",
    "    server_name='bens-server',\n",
    "    parameters={\n",
    "        'location': DEFAULT_LOCATION,\n",
    "        'version': '12.0',\n",
    "        'administrator_login': 'benadmin',\n",
    "        'administrator_login_password': 'testpassword123!'\n",
    "    }\n",
    ")\n",
    "sql_server.wait()"
   ]
  },
  {
   "cell_type": "code",
   "execution_count": 6,
   "metadata": {},
   "outputs": [
    {
     "name": "stdout",
     "output_type": "stream",
     "text": [
      "bens-server\n"
     ]
    }
   ],
   "source": [
    "for server in sql_client.servers.list():\n",
    "    print(server.name)"
   ]
  },
  {
   "cell_type": "code",
   "execution_count": 7,
   "metadata": {},
   "outputs": [],
   "source": [
    "database = sql_client.databases.begin_create_or_update(\n",
    "    resource_group_name=DEFAULT_RESOURCE_GROUP,\n",
    "    server_name='bens-server',\n",
    "    database_name='bens-db',\n",
    "    parameters={\n",
    "        'location': DEFAULT_LOCATION,\n",
    "        'sample_name': 'AdventureWorksLT',\n",
    "        'edition': 'GeneralPurpose',\n",
    "        'compute_model': 'Serverless',\n",
    "        'family': 'Gen5',\n",
    "        'capacity': 2\n",
    "    }\n",
    ")\n",
    "database.wait()"
   ]
  },
  {
   "cell_type": "code",
   "execution_count": 8,
   "metadata": {},
   "outputs": [
    {
     "name": "stdout",
     "output_type": "stream",
     "text": [
      "bens-db\n",
      "master\n"
     ]
    }
   ],
   "source": [
    "for db in sql_client.databases.list_by_server(DEFAULT_RESOURCE_GROUP, 'bens-server'):\n",
    "    print(db.name)"
   ]
  },
  {
   "cell_type": "code",
   "execution_count": 42,
   "metadata": {},
   "outputs": [],
   "source": [
    "SERVER = 'bens-server.database.windows.net'\n",
    "DATABASE = 'bens-db'\n",
    "USERNAME = 'benadmin'\n",
    "PASSWORD = 'testpassword123!'\n",
    "# Has to be installed\n",
    "DRIVER = '{SQL Server}'\n",
    "\n",
    "connection_string = f'DRIVER={DRIVER};PORT=1433;SERVER={SERVER};DATABASE={DATABASE};UID={USERNAME};PWD={PASSWORD}'"
   ]
  },
  {
   "cell_type": "code",
   "execution_count": 44,
   "metadata": {},
   "outputs": [],
   "source": [
    "firewall = sql_client.firewall_rules.create_or_update(\n",
    "    resource_group_name=DEFAULT_RESOURCE_GROUP,\n",
    "    server_name='bens-server',\n",
    "    firewall_rule_name='JupyterNotebook',\n",
    "    parameters={\n",
    "        'start_ip_address': '157.45.165.10',\n",
    "        'end_ip_address': '157.45.165.10'\n",
    "    })\n"
   ]
  },
  {
   "cell_type": "code",
   "execution_count": 45,
   "metadata": {},
   "outputs": [
    {
     "name": "stdout",
     "output_type": "stream",
     "text": [
      "JupyterNotebook\n"
     ]
    }
   ],
   "source": [
    "for fr in sql_client.firewall_rules.list_by_server(DEFAULT_RESOURCE_GROUP, 'bens-server'):\n",
    "    print(fr.name)"
   ]
  },
  {
   "cell_type": "code",
   "execution_count": 46,
   "metadata": {},
   "outputs": [
    {
     "name": "stdout",
     "output_type": "stream",
     "text": [
      "['SQL Server']\n"
     ]
    }
   ],
   "source": [
    "print(pyodbc.drivers()) # this will list down all the drivers available in your local PC\n"
   ]
  },
  {
   "cell_type": "code",
   "execution_count": 47,
   "metadata": {},
   "outputs": [
    {
     "data": {
      "text/plain": [
       "'DRIVER={SQL Server};PORT=1433;SERVER=bens-server.database.windows.net;DATABASE=bens-db;UID=benadmin;PWD=testpassword123!'"
      ]
     },
     "execution_count": 47,
     "metadata": {},
     "output_type": "execute_result"
    }
   ],
   "source": [
    "connection = pyodbc.connect(connection_string)\n",
    "cursor = connection.cursor()\n",
    "connection_string"
   ]
  },
  {
   "cell_type": "code",
   "execution_count": 48,
   "metadata": {},
   "outputs": [
    {
     "name": "stdout",
     "output_type": "stream",
     "text": [
      "(9, '8713 Yosemite Ct.', None, 'Bothell', 'Washington', 'United States', '98011', '268AF621-76D7-4C78-9441-144FD139821A', datetime.datetime(2006, 7, 1, 0, 0))\n",
      "(11, '1318 Lasalle Street', None, 'Bothell', 'Washington', 'United States', '98011', '981B3303-ACA2-49C7-9A96-FB670785B269', datetime.datetime(2007, 4, 1, 0, 0))\n",
      "(25, '9178 Jumping St.', None, 'Dallas', 'Texas', 'United States', '75201', 'C8DF3BD9-48F0-4654-A8DD-14A67A84D3C6', datetime.datetime(2006, 9, 1, 0, 0))\n",
      "(28, '9228 Via Del Sol', None, 'Phoenix', 'Arizona', 'United States', '85004', '12AE5EE1-FC3E-468B-9B92-3B970B169774', datetime.datetime(2005, 9, 1, 0, 0))\n",
      "(32, '26910 Indela Road', None, 'Montreal', 'Quebec', 'Canada', 'H1Y 2H5', '84A95F62-3AE8-4E7E-BBD5-5A6F00CD982D', datetime.datetime(2006, 8, 1, 0, 0))\n",
      "(185, '2681 Eagle Peak', None, 'Bellevue', 'Washington', 'United States', '98004', '7BCCF442-2268-46CC-8472-14C44C14E98C', datetime.datetime(2006, 9, 1, 0, 0))\n",
      "(297, '7943 Walnut Ave', None, 'Renton', 'Washington', 'United States', '98055', '52410DA4-2778-4B1D-A599-95746625CE6D', datetime.datetime(2006, 8, 1, 0, 0))\n",
      "(445, '6388 Lake City Way', None, 'Burnaby', 'British Columbia', 'Canada', 'V5A 3A6', '53572F25-9133-4A8B-A065-102FF35416EE', datetime.datetime(2006, 9, 1, 0, 0))\n",
      "(446, '52560 Free Street', None, 'Toronto', 'Ontario', 'Canada', 'M4B 1V7', '801A1DFC-5125-486B-AA84-CCBD2EC57CA4', datetime.datetime(2005, 8, 1, 0, 0))\n",
      "(447, '22580 Free Street', None, 'Toronto', 'Ontario', 'Canada', 'M4B 1V7', '88CEE379-DBB8-433B-B84E-A35E09435500', datetime.datetime(2006, 8, 1, 0, 0))\n"
     ]
    }
   ],
   "source": [
    "cursor.execute(\n",
    "\"\"\"\n",
    "select top (10) *\n",
    "from [SalesLT].[Address]\n",
    "\"\"\"\n",
    ")\n",
    "row = cursor.fetchone()\n",
    "while row:\n",
    "    print(str(row))\n",
    "    row = cursor.fetchone()"
   ]
  },
  {
   "cell_type": "code",
   "execution_count": 49,
   "metadata": {},
   "outputs": [
    {
     "name": "stdout",
     "output_type": "stream",
     "text": [
      "Address\n",
      "Customer\n",
      "CustomerAddress\n",
      "Product\n",
      "ProductCategory\n",
      "ProductDescription\n",
      "ProductModel\n",
      "ProductModelProductDescription\n",
      "SalesOrderDetail\n",
      "SalesOrderHeader\n"
     ]
    }
   ],
   "source": [
    "tables = cursor.tables(schema='SalesLT', tableType='TABLE')\n",
    "for table in tables:\n",
    "    print(table.table_name)"
   ]
  },
  {
   "cell_type": "code",
   "execution_count": 51,
   "metadata": {},
   "outputs": [
    {
     "name": "stdout",
     "output_type": "stream",
     "text": [
      "-1\n"
     ]
    }
   ],
   "source": [
    "# print(cursor)\n",
    "print(cursor.rowcount)"
   ]
  },
  {
   "cell_type": "code",
   "execution_count": 52,
   "metadata": {},
   "outputs": [
    {
     "name": "stdout",
     "output_type": "stream",
     "text": [
      "None\n",
      "AddressID\n",
      "rowguid\n",
      "AddressLine1\n",
      "AddressLine2\n",
      "City\n",
      "StateProvince\n",
      "PostalCode\n",
      "CountryRegion\n",
      "StateProvince\n"
     ]
    }
   ],
   "source": [
    "table_stats = cursor.statistics(table='Address', schema='SalesLT')\n",
    "for row in table_stats:\n",
    "    print(f'{row.column_name}')"
   ]
  },
  {
   "cell_type": "code",
   "execution_count": 53,
   "metadata": {},
   "outputs": [],
   "source": [
    "sql_server = sql_client.servers.begin_delete(\n",
    "    resource_group_name=DEFAULT_RESOURCE_GROUP,\n",
    "    server_name='bens-server'\n",
    ")\n",
    "sql_server.wait()"
   ]
  }
 ],
 "metadata": {
  "kernelspec": {
   "display_name": "base",
   "language": "python",
   "name": "python3"
  },
  "language_info": {
   "codemirror_mode": {
    "name": "ipython",
    "version": 3
   },
   "file_extension": ".py",
   "mimetype": "text/x-python",
   "name": "python",
   "nbconvert_exporter": "python",
   "pygments_lexer": "ipython3",
   "version": "3.8.8"
  },
  "orig_nbformat": 4
 },
 "nbformat": 4,
 "nbformat_minor": 2
}
