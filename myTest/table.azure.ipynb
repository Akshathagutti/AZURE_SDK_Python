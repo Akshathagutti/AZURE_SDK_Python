{
 "cells": [
  {
   "cell_type": "code",
   "execution_count": 4,
   "metadata": {},
   "outputs": [],
   "source": [
    "from datetime import datetime\n",
    "\n",
    "# New imports for tables\n",
    "from azure.data.tables import TableServiceClient, TableClient\n",
    "\n",
    "from settings import CONNECTION_STRING"
   ]
  },
  {
   "cell_type": "code",
   "execution_count": 5,
   "metadata": {},
   "outputs": [],
   "source": [
    "# !pip install azure-data-tables"
   ]
  },
  {
   "cell_type": "code",
   "execution_count": 6,
   "metadata": {},
   "outputs": [],
   "source": [
    "table_service_client = TableServiceClient.from_connection_string(conn_str=CONNECTION_STRING)"
   ]
  },
  {
   "cell_type": "code",
   "execution_count": 7,
   "metadata": {},
   "outputs": [
    {
     "data": {
      "text/plain": [
       "'https://benbstorage1.table.core.windows.net'"
      ]
     },
     "execution_count": 7,
     "metadata": {},
     "output_type": "execute_result"
    }
   ],
   "source": [
    "table_service_client.url"
   ]
  },
  {
   "cell_type": "code",
   "execution_count": 9,
   "metadata": {},
   "outputs": [],
   "source": [
    "table_client = table_service_client.create_table(table_name='bensTable2')"
   ]
  },
  {
   "cell_type": "code",
   "execution_count": 10,
   "metadata": {},
   "outputs": [
    {
     "data": {
      "text/plain": [
       "'https://benbstorage1.table.core.windows.net'"
      ]
     },
     "execution_count": 10,
     "metadata": {},
     "output_type": "execute_result"
    }
   ],
   "source": [
    "table_client.url"
   ]
  },
  {
   "cell_type": "code",
   "execution_count": 11,
   "metadata": {},
   "outputs": [],
   "source": [
    "entity = table_client.create_entity(\n",
    "    entity={\n",
    "        'PartitionKey': 'Doe, John',\n",
    "        'RowKey': '00001',\n",
    "        'AdmissionDate': datetime(2023, 5, 10),\n",
    "        'DischargeDate': datetime(2023, 5, 15),\n",
    "        'Age': 78,\n",
    "        'Diagnosis': 'Flu'\n",
    "    }\n",
    ")"
   ]
  },
  {
   "cell_type": "code",
   "execution_count": 12,
   "metadata": {},
   "outputs": [
    {
     "name": "stdout",
     "output_type": "stream",
     "text": [
      "{'PartitionKey': 'Doe, John', 'RowKey': '00001', 'AdmissionDate': TablesEntityDatetime(2023, 5, 9, 18, 30, tzinfo=datetime.timezone.utc), 'DischargeDate': TablesEntityDatetime(2023, 5, 14, 18, 30, tzinfo=datetime.timezone.utc), 'Age': 78, 'Diagnosis': 'Flu'}\n"
     ]
    }
   ],
   "source": [
    "for entity in table_client.list_entities():\n",
    "    print(entity)"
   ]
  },
  {
   "cell_type": "code",
   "execution_count": 13,
   "metadata": {},
   "outputs": [
    {
     "name": "stdout",
     "output_type": "stream",
     "text": [
      "{'PartitionKey': 'Doe, John', 'RowKey': '00001', 'AdmissionDate': TablesEntityDatetime(2023, 5, 9, 18, 30, tzinfo=datetime.timezone.utc), 'DischargeDate': TablesEntityDatetime(2023, 5, 14, 18, 30, tzinfo=datetime.timezone.utc), 'Age': 78, 'Diagnosis': 'Flu'}\n"
     ]
    }
   ],
   "source": [
    "from datetime import datetime\n",
    "parameters = {\n",
    "    'admission_date': datetime(2023, 5, 1)\n",
    "}\n",
    "query_filter = \"AdmissionDate ge @admission_date\"\n",
    "result = table_client.query_entities(\n",
    "    query_filter=query_filter,\n",
    "    parameters=parameters\n",
    ")\n",
    "for item in result:\n",
    "    print(item)"
   ]
  },
  {
   "cell_type": "code",
   "execution_count": 14,
   "metadata": {},
   "outputs": [],
   "source": [
    "table_client.delete_entity(\n",
    "    partition_key='Doe, John',\n",
    "    row_key='00001'\n",
    ")"
   ]
  },
  {
   "cell_type": "code",
   "execution_count": 15,
   "metadata": {},
   "outputs": [],
   "source": [
    "for entity in table_client.list_entities():\n",
    "    print(entity)"
   ]
  },
  {
   "cell_type": "code",
   "execution_count": 20,
   "metadata": {},
   "outputs": [],
   "source": [
    "for table in table_service_client.list_tables():\n",
    "    print(table.name)"
   ]
  },
  {
   "cell_type": "code",
   "execution_count": 19,
   "metadata": {},
   "outputs": [],
   "source": [
    "table_service_client.delete_table(table_name='bensTable2')"
   ]
  }
 ],
 "metadata": {
  "kernelspec": {
   "display_name": "base",
   "language": "python",
   "name": "python3"
  },
  "language_info": {
   "codemirror_mode": {
    "name": "ipython",
    "version": 3
   },
   "file_extension": ".py",
   "mimetype": "text/x-python",
   "name": "python",
   "nbconvert_exporter": "python",
   "pygments_lexer": "ipython3",
   "version": "3.8.8"
  },
  "orig_nbformat": 4
 },
 "nbformat": 4,
 "nbformat_minor": 2
}
