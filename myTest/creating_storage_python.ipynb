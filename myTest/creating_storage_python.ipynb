{
 "cells": [
  {
   "cell_type": "code",
   "execution_count": 20,
   "metadata": {},
   "outputs": [],
   "source": [
    "import random\n",
    "\n",
    "from azure.identity import AzureCliCredential\n",
    "from azure.mgmt.resource import ResourceManagementClient\n",
    "# New import\n",
    "from azure.mgmt.storage import StorageManagementClient\n",
    "\n",
    "from settings import AZURE_SUBSCRIPTION_ID, DEFAULT_LOCATION, DEFAULT_RESOURCE_GROUP"
   ]
  },
  {
   "cell_type": "code",
   "execution_count": 21,
   "metadata": {},
   "outputs": [],
   "source": [
    "credential = AzureCliCredential()\n",
    "resource_client = ResourceManagementClient(credential, AZURE_SUBSCRIPTION_ID)"
   ]
  },
  {
   "cell_type": "code",
   "execution_count": 25,
   "metadata": {},
   "outputs": [],
   "source": [
    "DEFAULT_RESOURCE_GROUP ='azure-storage-group'"
   ]
  },
  {
   "cell_type": "code",
   "execution_count": 26,
   "metadata": {},
   "outputs": [],
   "source": [
    "if not resource_client.resource_groups.get('azure-storage-group'):\n",
    "    rg_result = resource_client.resource_groups.create_or_update(\n",
    "        resource_group_name='DEFAULT_RESOURCE_GROUP',\n",
    "        parameters={\n",
    "            'location': DEFAULT_LOCATION\n",
    "        }\n",
    "    )"
   ]
  },
  {
   "cell_type": "code",
   "execution_count": 27,
   "metadata": {},
   "outputs": [],
   "source": [
    "storage_client = StorageManagementClient(credential, AZURE_SUBSCRIPTION_ID)"
   ]
  },
  {
   "cell_type": "code",
   "execution_count": 28,
   "metadata": {},
   "outputs": [
    {
     "name": "stdout",
     "output_type": "stream",
     "text": [
      "Account name benbstorage508 available, creating account\n",
      "benbstorage508 has been provisioned\n"
     ]
    }
   ],
   "source": [
    "STORAGE_ACCOUNT_BASE = 'benbstorage'\n",
    "while True:\n",
    "    account_name = f'{STORAGE_ACCOUNT_BASE}{random.randint(1,1000)}'\n",
    "    if not storage_client.storage_accounts.check_name_availability({'name':account_name}).name_available:\n",
    "        print(f'Account name {account_name} not available, trying again')\n",
    "    else:\n",
    "        print(f'Account name {account_name} available, creating account')\n",
    "        poller =  storage_client.storage_accounts.begin_create(\n",
    "            resource_group_name=DEFAULT_RESOURCE_GROUP,\n",
    "            account_name=account_name,\n",
    "            parameters={\n",
    "                'location': DEFAULT_LOCATION,\n",
    "                'kind': 'StorageV2',\n",
    "                'sku': {\n",
    "                    'name': 'Standard_LRS'\n",
    "                }\n",
    "            }\n",
    "        )\n",
    "        poller_result = poller.result()\n",
    "        print(f'{poller_result.name} has been provisioned')\n",
    "        break"
   ]
  }
 ],
 "metadata": {
  "kernelspec": {
   "display_name": "base",
   "language": "python",
   "name": "python3"
  },
  "language_info": {
   "codemirror_mode": {
    "name": "ipython",
    "version": 3
   },
   "file_extension": ".py",
   "mimetype": "text/x-python",
   "name": "python",
   "nbconvert_exporter": "python",
   "pygments_lexer": "ipython3",
   "version": "3.8.8"
  },
  "orig_nbformat": 4
 },
 "nbformat": 4,
 "nbformat_minor": 2
}
