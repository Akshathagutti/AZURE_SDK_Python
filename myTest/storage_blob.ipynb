{
 "cells": [
  {
   "cell_type": "code",
   "execution_count": 89,
   "metadata": {},
   "outputs": [],
   "source": [
    "import random\n",
    "\n",
    "from azure.identity import AzureCliCredential,DefaultAzureCredential\n",
    "from azure.mgmt.resource import ResourceManagementClient\n",
    "# New import\n",
    "from azure.mgmt.storage import StorageManagementClient\n",
    "from azure.storage.blob import BlobClient, BlobServiceClient\n",
    "\n",
    "from settings import AZURE_SUBSCRIPTION_ID,DEFAULT_RESOURCE_GROUP"
   ]
  },
  {
   "cell_type": "code",
   "execution_count": 90,
   "metadata": {},
   "outputs": [],
   "source": [
    "credential = AzureCliCredential()\n",
    "storage_client = StorageManagementClient(credential, AZURE_SUBSCRIPTION_ID)"
   ]
  },
  {
   "cell_type": "code",
   "execution_count": 91,
   "metadata": {},
   "outputs": [
    {
     "name": "stdout",
     "output_type": "stream",
     "text": [
      "benbstorage1: https://benbstorage1.blob.core.windows.net/\n",
      "benbstorage508: https://benbstorage508.blob.core.windows.net/\n"
     ]
    }
   ],
   "source": [
    "for account in storage_client.storage_accounts.list():\n",
    "    print(f'{account.name}: {account.primary_endpoints.blob}')"
   ]
  },
  {
   "cell_type": "code",
   "execution_count": 92,
   "metadata": {},
   "outputs": [],
   "source": [
    "container = storage_client.blob_containers.create(\n",
    "    resource_group_name=DEFAULT_RESOURCE_GROUP,\n",
    "    account_name='benbstorage508',\n",
    "    container_name='bens-blob-container',\n",
    "    blob_container={}\n",
    ")"
   ]
  },
  {
   "cell_type": "code",
   "execution_count": 52,
   "metadata": {},
   "outputs": [
    {
     "data": {
      "text/plain": [
       "'bens-blob-container'"
      ]
     },
     "execution_count": 52,
     "metadata": {},
     "output_type": "execute_result"
    }
   ],
   "source": [
    "container.name"
   ]
  },
  {
   "cell_type": "code",
   "execution_count": 53,
   "metadata": {},
   "outputs": [],
   "source": [
    "blob_client = BlobClient(\n",
    "    account_url='https://benbstorage508.blob.core.windows.net/',\n",
    "    container_name='bens-blob-container',\n",
    "    blob_name='simple.txt',\n",
    "    credential=credential\n",
    ")"
   ]
  },
  {
   "cell_type": "code",
   "execution_count": 54,
   "metadata": {},
   "outputs": [
    {
     "data": {
      "text/plain": [
       "'bens-blob-container'"
      ]
     },
     "execution_count": 54,
     "metadata": {},
     "output_type": "execute_result"
    }
   ],
   "source": [
    "blob_client.container_name"
   ]
  },
  {
   "cell_type": "code",
   "execution_count": 103,
   "metadata": {},
   "outputs": [],
   "source": [
    "conn_str='DefaultEndpointsProtocol=https;AccountName=benbstorage1;AccountKey=auo56OQ3SbbCPTqKsKUU5QThll1YTsvPrgbubuapvvRiO+tCVz6dmG1YSeXv9BeALyq6mpIaWIA6+AStw6wLWQ==;EndpointSuffix=core.windows.net'\n"
   ]
  },
  {
   "cell_type": "code",
   "execution_count": 94,
   "metadata": {},
   "outputs": [],
   "source": [
    "from azure.storage.blob import BlobClient\n",
    "\n",
    "blob_client = BlobClient.from_connection_string(\n",
    "        conn_str='DefaultEndpointsProtocol=https;AccountName=benbstorage1;AccountKey=auo56OQ3SbbCPTqKsKUU5QThll1YTsvPrgbubuapvvRiO+tCVz6dmG1YSeXv9BeALyq6mpIaWIA6+AStw6wLWQ==;EndpointSuffix=core.windows.net',\n",
    "        container_name='bens-blob-container',\n",
    "        blob_name='test_file.txt')\n",
    "\n",
    "with open(\"./test_file.txt\", \"rb\") as data:\n",
    "    blob_client.upload_blob(data,overwrite=True)\n",
    "    "
   ]
  },
  {
   "cell_type": "code",
   "execution_count": 107,
   "metadata": {},
   "outputs": [],
   "source": [
    "blob_serviceClient = BlobServiceClient.from_connection_string(conn_str)"
   ]
  },
  {
   "cell_type": "code",
   "execution_count": 108,
   "metadata": {},
   "outputs": [],
   "source": [
    "container_client1= blob_serviceClient.get_container_client('bens-blob-container')"
   ]
  },
  {
   "cell_type": "code",
   "execution_count": 110,
   "metadata": {},
   "outputs": [
    {
     "name": "stdout",
     "output_type": "stream",
     "text": [
      "{'name': 'simple.txt', 'container': 'bens-blob-container', 'snapshot': None, 'version_id': None, 'is_current_version': None, 'blob_type': <BlobType.BLOCKBLOB: 'BlockBlob'>, 'metadata': {}, 'encrypted_metadata': None, 'last_modified': datetime.datetime(2023, 12, 7, 14, 30, 26, tzinfo=datetime.timezone.utc), 'etag': '0x8DBF7310DE9EFE0', 'size': 0, 'content_range': None, 'append_blob_committed_block_count': None, 'is_append_blob_sealed': None, 'page_blob_sequence_number': None, 'server_encrypted': True, 'copy': {'id': None, 'source': None, 'status': None, 'progress': None, 'completion_time': None, 'status_description': None, 'incremental_copy': None, 'destination_snapshot': None}, 'content_settings': {'content_type': 'text/plain', 'content_encoding': None, 'content_language': None, 'content_md5': bytearray(b'\\xd4\\x1d\\x8c\\xd9\\x8f\\x00\\xb2\\x04\\xe9\\x80\\t\\x98\\xec\\xf8B~'), 'content_disposition': None, 'cache_control': None}, 'lease': {'status': 'unlocked', 'state': 'available', 'duration': None}, 'blob_tier': 'Hot', 'rehydrate_priority': None, 'blob_tier_change_time': None, 'blob_tier_inferred': True, 'deleted': None, 'deleted_time': None, 'remaining_retention_days': None, 'creation_time': datetime.datetime(2023, 12, 7, 14, 30, 26, tzinfo=datetime.timezone.utc), 'archive_status': None, 'encryption_key_sha256': None, 'encryption_scope': None, 'request_server_encrypted': None, 'object_replication_source_properties': [], 'object_replication_destination_policy': None, 'last_accessed_on': None, 'tag_count': None, 'tags': None, 'immutability_policy': {'expiry_time': None, 'policy_mode': None}, 'has_legal_hold': None, 'has_versions_only': None}\n",
      "{'name': 'test_file.txt', 'container': 'bens-blob-container', 'snapshot': None, 'version_id': None, 'is_current_version': None, 'blob_type': <BlobType.BLOCKBLOB: 'BlockBlob'>, 'metadata': {}, 'encrypted_metadata': None, 'last_modified': datetime.datetime(2023, 12, 8, 4, 26, 25, tzinfo=datetime.timezone.utc), 'etag': '0x8DBF7A5D70FC3D2', 'size': 42, 'content_range': None, 'append_blob_committed_block_count': None, 'is_append_blob_sealed': None, 'page_blob_sequence_number': None, 'server_encrypted': True, 'copy': {'id': None, 'source': None, 'status': None, 'progress': None, 'completion_time': None, 'status_description': None, 'incremental_copy': None, 'destination_snapshot': None}, 'content_settings': {'content_type': 'application/octet-stream', 'content_encoding': None, 'content_language': None, 'content_md5': bytearray(b'\\x05\\x1b\"\\x0f\\rj/c\\xffM@\\x90\\xf3\\xf6\\xa1\\xe7'), 'content_disposition': None, 'cache_control': None}, 'lease': {'status': 'unlocked', 'state': 'available', 'duration': None}, 'blob_tier': 'Hot', 'rehydrate_priority': None, 'blob_tier_change_time': None, 'blob_tier_inferred': True, 'deleted': None, 'deleted_time': None, 'remaining_retention_days': None, 'creation_time': datetime.datetime(2023, 12, 7, 15, 29, 8, tzinfo=datetime.timezone.utc), 'archive_status': None, 'encryption_key_sha256': None, 'encryption_scope': None, 'request_server_encrypted': None, 'object_replication_source_properties': [], 'object_replication_destination_policy': None, 'last_accessed_on': None, 'tag_count': None, 'tags': None, 'immutability_policy': {'expiry_time': None, 'policy_mode': None}, 'has_legal_hold': None, 'has_versions_only': None}\n"
     ]
    }
   ],
   "source": [
    "for blob in container_client1.list_blobs():\n",
    "    print(blob)"
   ]
  },
  {
   "cell_type": "code",
   "execution_count": 88,
   "metadata": {},
   "outputs": [
    {
     "data": {
      "text/plain": [
       "<azure.mgmt.storage.v2022_09_01.models._models_py3.BlobContainer at 0x1da3d394190>"
      ]
     },
     "execution_count": 88,
     "metadata": {},
     "output_type": "execute_result"
    }
   ],
   "source": []
  },
  {
   "cell_type": "code",
   "execution_count": 58,
   "metadata": {},
   "outputs": [],
   "source": [
    "blob_service_client = BlobServiceClient(\n",
    "    account_url='https://benbstorage1.blob.core.windows.net/',\n",
    "    credential=credential\n",
    ")"
   ]
  },
  {
   "cell_type": "code",
   "execution_count": 41,
   "metadata": {},
   "outputs": [],
   "source": [
    "container_client = blob_service_client.get_container_client(container='bens-blob-container')"
   ]
  },
  {
   "cell_type": "code",
   "execution_count": 85,
   "metadata": {},
   "outputs": [
    {
     "ename": "ImportError",
     "evalue": "cannot import name 'BlockBlobService' from 'azure.storage.blob' (c:\\Users\\AKGUTTI\\Anaconda2\\lib\\site-packages\\azure\\storage\\blob\\__init__.py)",
     "output_type": "error",
     "traceback": [
      "\u001b[1;31m---------------------------------------------------------------------------\u001b[0m",
      "\u001b[1;31mImportError\u001b[0m                               Traceback (most recent call last)",
      "\u001b[1;32m<ipython-input-85-4314d32a31cb>\u001b[0m in \u001b[0;36m<module>\u001b[1;34m\u001b[0m\n\u001b[0;32m      1\u001b[0m \u001b[1;32mimport\u001b[0m \u001b[0mazure\u001b[0m\u001b[1;33m\u001b[0m\u001b[1;33m\u001b[0m\u001b[0m\n\u001b[1;32m----> 2\u001b[1;33m \u001b[1;32mfrom\u001b[0m \u001b[0mazure\u001b[0m\u001b[1;33m.\u001b[0m\u001b[0mstorage\u001b[0m\u001b[1;33m.\u001b[0m\u001b[0mblob\u001b[0m \u001b[1;32mimport\u001b[0m \u001b[0mBlockBlobService\u001b[0m\u001b[1;33m\u001b[0m\u001b[1;33m\u001b[0m\u001b[0m\n\u001b[0m\u001b[0;32m      3\u001b[0m \u001b[1;33m\u001b[0m\u001b[0m\n\u001b[0;32m      4\u001b[0m \u001b[0mblob_service\u001b[0m \u001b[1;33m=\u001b[0m \u001b[0mBlockBlobService\u001b[0m\u001b[1;33m(\u001b[0m\u001b[0maccount_name\u001b[0m\u001b[1;33m=\u001b[0m\u001b[1;34m'benbstorage1'\u001b[0m\u001b[1;33m,\u001b[0m \u001b[0maccount_key\u001b[0m\u001b[1;33m=\u001b[0m\u001b[1;34m'auo56OQ3SbbCPTqKsKUU5QThll1YTsvPrgbubuapvvRiO+tCVz6dmG1YSeXv9BeALyq6mpIaWIA6+AStw6wLWQ=='\u001b[0m\u001b[1;33m)\u001b[0m\u001b[1;33m\u001b[0m\u001b[1;33m\u001b[0m\u001b[0m\n\u001b[0;32m      5\u001b[0m \u001b[0mcontainers\u001b[0m \u001b[1;33m=\u001b[0m \u001b[0mblob_service\u001b[0m\u001b[1;33m.\u001b[0m\u001b[0mlist_containers\u001b[0m\u001b[1;33m(\u001b[0m\u001b[1;33m)\u001b[0m\u001b[1;33m\u001b[0m\u001b[1;33m\u001b[0m\u001b[0m\n",
      "\u001b[1;31mImportError\u001b[0m: cannot import name 'BlockBlobService' from 'azure.storage.blob' (c:\\Users\\AKGUTTI\\Anaconda2\\lib\\site-packages\\azure\\storage\\blob\\__init__.py)"
     ]
    }
   ],
   "source": [
    "import azure\n",
    "from azure.storage.blob import BlockBlobService\n",
    "\n",
    "blob_service = BlockBlobService(account_name='benbstorage1', account_key='auo56OQ3SbbCPTqKsKUU5QThll1YTsvPrgbubuapvvRiO+tCVz6dmG1YSeXv9BeALyq6mpIaWIA6+AStw6wLWQ==')\n",
    "containers = blob_service.list_containers()\n",
    "\n",
    "for c in containers:\n",
    "    print(c.name)"
   ]
  }
 ],
 "metadata": {
  "kernelspec": {
   "display_name": "base",
   "language": "python",
   "name": "python3"
  },
  "language_info": {
   "codemirror_mode": {
    "name": "ipython",
    "version": 3
   },
   "file_extension": ".py",
   "mimetype": "text/x-python",
   "name": "python",
   "nbconvert_exporter": "python",
   "pygments_lexer": "ipython3",
   "version": "3.8.8"
  },
  "orig_nbformat": 4
 },
 "nbformat": 4,
 "nbformat_minor": 2
}
