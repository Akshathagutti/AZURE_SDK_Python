{
 "cells": [
  {
   "cell_type": "code",
   "execution_count": 18,
   "metadata": {},
   "outputs": [],
   "source": [
    "from azure.identity import AzureCliCredential\n",
    "# New imports for queues\n",
    "from azure.storage.queue import QueueClient, QueueServiceClient, QueueMessage\n",
    "\n",
    "from settings import AZURE_SUBSCRIPTION_ID,STORAGE_ACCESS_KEY"
   ]
  },
  {
   "cell_type": "code",
   "execution_count": 3,
   "metadata": {},
   "outputs": [],
   "source": [
    "# !pip install azure-storage-queue"
   ]
  },
  {
   "cell_type": "code",
   "execution_count": 5,
   "metadata": {},
   "outputs": [],
   "source": [
    "credential = AzureCliCredential()"
   ]
  },
  {
   "cell_type": "code",
   "execution_count": 10,
   "metadata": {},
   "outputs": [],
   "source": [
    "connectionString = 'DefaultEndpointsProtocol=https;AccountName=benbstorage1;AccountKey=auo56OQ3SbbCPTqKsKUU5QThll1YTsvPrgbubuapvvRiO+tCVz6dmG1YSeXv9BeALyq6mpIaWIA6+AStw6wLWQ==;EndpointSuffix=core.windows.net'\n"
   ]
  },
  {
   "cell_type": "code",
   "execution_count": 16,
   "metadata": {},
   "outputs": [
    {
     "ename": "ValueError",
     "evalue": "Connection string missing required connection details.",
     "output_type": "error",
     "traceback": [
      "\u001b[1;31m---------------------------------------------------------------------------\u001b[0m",
      "\u001b[1;31mKeyError\u001b[0m                                  Traceback (most recent call last)",
      "\u001b[1;32mc:\\Users\\AKGUTTI\\Anaconda2\\lib\\site-packages\\azure\\storage\\queue\\_shared\\base_client.py\u001b[0m in \u001b[0;36mparse_connection_str\u001b[1;34m(conn_str, credential, service)\u001b[0m\n\u001b[0;32m    421\u001b[0m             primary = (\n\u001b[1;32m--> 422\u001b[1;33m                 \u001b[1;34mf\"https://{conn_settings['ACCOUNTNAME']}.\"\u001b[0m\u001b[1;33m\u001b[0m\u001b[1;33m\u001b[0m\u001b[0m\n\u001b[0m\u001b[0;32m    423\u001b[0m                 \u001b[1;34mf\"{service}.{conn_settings.get('ENDPOINTSUFFIX', SERVICE_HOST_BASE)}\"\u001b[0m\u001b[1;33m\u001b[0m\u001b[1;33m\u001b[0m\u001b[0m\n",
      "\u001b[1;31mKeyError\u001b[0m: 'ACCOUNTNAME'",
      "\nThe above exception was the direct cause of the following exception:\n",
      "\u001b[1;31mValueError\u001b[0m                                Traceback (most recent call last)",
      "\u001b[1;32m<ipython-input-16-0561f202f825>\u001b[0m in \u001b[0;36m<module>\u001b[1;34m\u001b[0m\n\u001b[1;32m----> 1\u001b[1;33m \u001b[0mqueueClient\u001b[0m \u001b[1;33m=\u001b[0m \u001b[0mQueueClient\u001b[0m\u001b[1;33m.\u001b[0m\u001b[0mfrom_connection_string\u001b[0m\u001b[1;33m(\u001b[0m\u001b[0mconnectionString\u001b[0m\u001b[1;33m,\u001b[0m \u001b[1;34m'bens-queue-1'\u001b[0m\u001b[1;33m)\u001b[0m\u001b[1;33m\u001b[0m\u001b[1;33m\u001b[0m\u001b[0m\n\u001b[0m",
      "\u001b[1;32mc:\\Users\\AKGUTTI\\Anaconda2\\lib\\site-packages\\azure\\storage\\queue\\_queue_client.py\u001b[0m in \u001b[0;36mfrom_connection_string\u001b[1;34m(cls, conn_str, queue_name, credential, **kwargs)\u001b[0m\n\u001b[0;32m    179\u001b[0m                 \u001b[1;33m:\u001b[0m\u001b[0mcaption\u001b[0m\u001b[1;33m:\u001b[0m \u001b[0mCreate\u001b[0m \u001b[0mthe\u001b[0m \u001b[0mqueue\u001b[0m \u001b[0mclient\u001b[0m \u001b[1;32mfrom\u001b[0m \u001b[0mconnection\u001b[0m \u001b[0mstring\u001b[0m\u001b[1;33m.\u001b[0m\u001b[1;33m\u001b[0m\u001b[1;33m\u001b[0m\u001b[0m\n\u001b[0;32m    180\u001b[0m         \"\"\"\n\u001b[1;32m--> 181\u001b[1;33m         account_url, secondary, credential = parse_connection_str(\n\u001b[0m\u001b[0;32m    182\u001b[0m             conn_str, credential, 'queue')\n\u001b[0;32m    183\u001b[0m         \u001b[1;32mif\u001b[0m \u001b[1;34m'secondary_hostname'\u001b[0m \u001b[1;32mnot\u001b[0m \u001b[1;32min\u001b[0m \u001b[0mkwargs\u001b[0m\u001b[1;33m:\u001b[0m\u001b[1;33m\u001b[0m\u001b[1;33m\u001b[0m\u001b[0m\n",
      "\u001b[1;32mc:\\Users\\AKGUTTI\\Anaconda2\\lib\\site-packages\\azure\\storage\\queue\\_shared\\base_client.py\u001b[0m in \u001b[0;36mparse_connection_str\u001b[1;34m(conn_str, credential, service)\u001b[0m\n\u001b[0;32m    424\u001b[0m             )\n\u001b[0;32m    425\u001b[0m         \u001b[1;32mexcept\u001b[0m \u001b[0mKeyError\u001b[0m \u001b[1;32mas\u001b[0m \u001b[0mexc\u001b[0m\u001b[1;33m:\u001b[0m\u001b[1;33m\u001b[0m\u001b[1;33m\u001b[0m\u001b[0m\n\u001b[1;32m--> 426\u001b[1;33m             \u001b[1;32mraise\u001b[0m \u001b[0mValueError\u001b[0m\u001b[1;33m(\u001b[0m\u001b[1;34m\"Connection string missing required connection details.\"\u001b[0m\u001b[1;33m)\u001b[0m \u001b[1;32mfrom\u001b[0m \u001b[0mexc\u001b[0m\u001b[1;33m\u001b[0m\u001b[1;33m\u001b[0m\u001b[0m\n\u001b[0m\u001b[0;32m    427\u001b[0m     \u001b[1;32mif\u001b[0m \u001b[0mservice\u001b[0m \u001b[1;33m==\u001b[0m \u001b[1;34m\"dfs\"\u001b[0m\u001b[1;33m:\u001b[0m\u001b[1;33m\u001b[0m\u001b[1;33m\u001b[0m\u001b[0m\n\u001b[0;32m    428\u001b[0m         \u001b[0mprimary\u001b[0m \u001b[1;33m=\u001b[0m \u001b[0mprimary\u001b[0m\u001b[1;33m.\u001b[0m\u001b[0mreplace\u001b[0m\u001b[1;33m(\u001b[0m\u001b[1;34m\".blob.\"\u001b[0m\u001b[1;33m,\u001b[0m \u001b[1;34m\".dfs.\"\u001b[0m\u001b[1;33m)\u001b[0m\u001b[1;33m\u001b[0m\u001b[1;33m\u001b[0m\u001b[0m\n",
      "\u001b[1;31mValueError\u001b[0m: Connection string missing required connection details."
     ]
    }
   ],
   "source": [
    "queueClient = QueueClient.from_connection_string(connectionString, 'bens-queue-1')\n"
   ]
  },
  {
   "cell_type": "code",
   "execution_count": 23,
   "metadata": {},
   "outputs": [],
   "source": [
    "queue_client = QueueClient(\n",
    "    account_url='https://benbstorage1.queue.core.windows.net',\n",
    "    queue_name='bens-queue-2',\n",
    "    # conn_str= connectionString,\n",
    "    credential='auo56OQ3SbbCPTqKsKUU5QThll1YTsvPrgbubuapvvRiO+tCVz6dmG1YSeXv9BeALyq6mpIaWIA6+AStw6wLWQ=='\n",
    ")\n",
    "\n",
    "\n",
    "# queueClient = QueueClient.from_connection_string(connectionString, queue_name)\n",
    "# for message in messages:\n",
    "#     queueClient.send_message(message)"
   ]
  },
  {
   "cell_type": "code",
   "execution_count": 24,
   "metadata": {},
   "outputs": [],
   "source": [
    "queue = queue_client.create_queue()"
   ]
  },
  {
   "cell_type": "code",
   "execution_count": 25,
   "metadata": {},
   "outputs": [
    {
     "data": {
      "text/plain": [
       "{'id': '8638810b-d0db-4331-91c7-3664fd992a0f', 'inserted_on': datetime.datetime(2023, 12, 8, 6, 46, 5, tzinfo=datetime.timezone.utc), 'expires_on': datetime.datetime(2023, 12, 15, 6, 46, 5, tzinfo=datetime.timezone.utc), 'dequeue_count': None, 'content': 'My second message', 'pop_receipt': 'AgAAAAMAAAAAAAAA1EB7N6Ip2gE=', 'next_visible_on': datetime.datetime(2023, 12, 8, 6, 46, 5, tzinfo=datetime.timezone.utc)}"
      ]
     },
     "execution_count": 25,
     "metadata": {},
     "output_type": "execute_result"
    }
   ],
   "source": [
    "queue_client.send_message(\"My second message\")"
   ]
  },
  {
   "cell_type": "code",
   "execution_count": 26,
   "metadata": {},
   "outputs": [
    {
     "data": {
      "text/plain": [
       "{'id': 'c65cf61b-7797-4cdc-a7f6-77c73c788d82', 'inserted_on': datetime.datetime(2023, 12, 8, 6, 46, 37, tzinfo=datetime.timezone.utc), 'expires_on': datetime.datetime(2023, 12, 15, 6, 46, 37, tzinfo=datetime.timezone.utc), 'dequeue_count': None, 'content': 'My first message', 'pop_receipt': 'AgAAAAMAAAAAAAAAlkPFSqIp2gE=', 'next_visible_on': datetime.datetime(2023, 12, 8, 6, 46, 37, tzinfo=datetime.timezone.utc)}"
      ]
     },
     "execution_count": 26,
     "metadata": {},
     "output_type": "execute_result"
    }
   ],
   "source": [
    "queue_client.send_message(\"My first message\")"
   ]
  },
  {
   "cell_type": "code",
   "execution_count": 27,
   "metadata": {},
   "outputs": [
    {
     "data": {
      "text/plain": [
       "{'id': '449eeee2-9756-414f-a86e-3b6aab85d10d', 'inserted_on': datetime.datetime(2023, 12, 8, 6, 47, 7, tzinfo=datetime.timezone.utc), 'expires_on': datetime.datetime(2023, 12, 15, 6, 47, 7, tzinfo=datetime.timezone.utc), 'dequeue_count': None, 'content': 'My 3rd message', 'pop_receipt': 'AgAAAAMAAAAAAAAAr9qTXKIp2gE=', 'next_visible_on': datetime.datetime(2023, 12, 8, 6, 47, 7, tzinfo=datetime.timezone.utc)}"
      ]
     },
     "execution_count": 27,
     "metadata": {},
     "output_type": "execute_result"
    }
   ],
   "source": [
    "queue_client.send_message(\"My 3rd message\")"
   ]
  },
  {
   "cell_type": "code",
   "execution_count": 29,
   "metadata": {},
   "outputs": [
    {
     "data": {
      "text/plain": [
       "[{'id': '8638810b-d0db-4331-91c7-3664fd992a0f', 'inserted_on': datetime.datetime(2023, 12, 8, 6, 46, 5, tzinfo=datetime.timezone.utc), 'expires_on': datetime.datetime(2023, 12, 15, 6, 46, 5, tzinfo=datetime.timezone.utc), 'dequeue_count': 0, 'content': 'My second message', 'pop_receipt': None, 'next_visible_on': None},\n",
       " {'id': 'c65cf61b-7797-4cdc-a7f6-77c73c788d82', 'inserted_on': datetime.datetime(2023, 12, 8, 6, 46, 37, tzinfo=datetime.timezone.utc), 'expires_on': datetime.datetime(2023, 12, 15, 6, 46, 37, tzinfo=datetime.timezone.utc), 'dequeue_count': 0, 'content': 'My first message', 'pop_receipt': None, 'next_visible_on': None},\n",
       " {'id': '449eeee2-9756-414f-a86e-3b6aab85d10d', 'inserted_on': datetime.datetime(2023, 12, 8, 6, 47, 7, tzinfo=datetime.timezone.utc), 'expires_on': datetime.datetime(2023, 12, 15, 6, 47, 7, tzinfo=datetime.timezone.utc), 'dequeue_count': 0, 'content': 'My 3rd message', 'pop_receipt': None, 'next_visible_on': None}]"
      ]
     },
     "execution_count": 29,
     "metadata": {},
     "output_type": "execute_result"
    }
   ],
   "source": [
    "queue_client.peek_messages(max_messages=3)"
   ]
  },
  {
   "cell_type": "code",
   "execution_count": 32,
   "metadata": {},
   "outputs": [],
   "source": [
    "first_message = queue_client.receive_message()"
   ]
  },
  {
   "cell_type": "code",
   "execution_count": 33,
   "metadata": {},
   "outputs": [
    {
     "data": {
      "text/plain": [
       "{'id': 'c65cf61b-7797-4cdc-a7f6-77c73c788d82', 'inserted_on': datetime.datetime(2023, 12, 8, 6, 46, 37, tzinfo=datetime.timezone.utc), 'expires_on': datetime.datetime(2023, 12, 15, 6, 46, 37, tzinfo=datetime.timezone.utc), 'dequeue_count': 1, 'content': 'My first message', 'pop_receipt': 'AgAAAAMAAAAAAAAABsSMl6Ip2gE=', 'next_visible_on': datetime.datetime(2023, 12, 8, 6, 48, 46, tzinfo=datetime.timezone.utc)}"
      ]
     },
     "execution_count": 33,
     "metadata": {},
     "output_type": "execute_result"
    }
   ],
   "source": [
    "first_message"
   ]
  },
  {
   "cell_type": "code",
   "execution_count": 34,
   "metadata": {},
   "outputs": [
    {
     "data": {
      "text/plain": [
       "{'id': 'c65cf61b-7797-4cdc-a7f6-77c73c788d82', 'inserted_on': None, 'expires_on': None, 'dequeue_count': None, 'content': 'Was this my first message?', 'pop_receipt': 'AwAAAAMAAAAAAAAA58aMnaIp2gEBAAAA', 'next_visible_on': datetime.datetime(2023, 12, 8, 6, 48, 56, tzinfo=datetime.timezone.utc)}"
      ]
     },
     "execution_count": 34,
     "metadata": {},
     "output_type": "execute_result"
    }
   ],
   "source": [
    "queue_client.update_message(\n",
    "    message=first_message.id,\n",
    "    pop_receipt=first_message.pop_receipt,\n",
    "    content=\"Was this my first message?\"\n",
    ")"
   ]
  },
  {
   "cell_type": "code",
   "execution_count": 35,
   "metadata": {},
   "outputs": [
    {
     "data": {
      "text/plain": [
       "{'name': 'bens-queue-2', 'metadata': {}, 'approximate_message_count': 3}"
      ]
     },
     "execution_count": 35,
     "metadata": {},
     "output_type": "execute_result"
    }
   ],
   "source": [
    "queue_client.get_queue_properties()"
   ]
  },
  {
   "cell_type": "code",
   "execution_count": 40,
   "metadata": {},
   "outputs": [],
   "source": [
    "messages = queue_client.receive_messages()"
   ]
  },
  {
   "cell_type": "code",
   "execution_count": 44,
   "metadata": {},
   "outputs": [
    {
     "name": "stdout",
     "output_type": "stream",
     "text": [
      "hi akshata\n",
      "My 3rd message\n",
      "My second message\n",
      "Was this my first message?\n",
      "aGkgYWtzaGF0YQ==\n"
     ]
    }
   ],
   "source": [
    "for msg in messages:\n",
    "    print(msg.content)"
   ]
  },
  {
   "cell_type": "code",
   "execution_count": 45,
   "metadata": {},
   "outputs": [],
   "source": [
    "messages = queue_client.receive_messages()"
   ]
  },
  {
   "cell_type": "code",
   "execution_count": 46,
   "metadata": {},
   "outputs": [],
   "source": [
    "for msg in messages:\n",
    "    print(msg.id)\n",
    "    queue_client.delete_message(msg)"
   ]
  },
  {
   "cell_type": "code",
   "execution_count": 47,
   "metadata": {},
   "outputs": [],
   "source": [
    "queue_client.delete_queue()"
   ]
  }
 ],
 "metadata": {
  "kernelspec": {
   "display_name": "base",
   "language": "python",
   "name": "python3"
  },
  "language_info": {
   "codemirror_mode": {
    "name": "ipython",
    "version": 3
   },
   "file_extension": ".py",
   "mimetype": "text/x-python",
   "name": "python",
   "nbconvert_exporter": "python",
   "pygments_lexer": "ipython3",
   "version": "3.8.8"
  },
  "orig_nbformat": 4
 },
 "nbformat": 4,
 "nbformat_minor": 2
}
